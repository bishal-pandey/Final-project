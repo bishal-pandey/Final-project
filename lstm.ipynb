{
 "cells": [
  {
   "cell_type": "code",
   "execution_count": 38,
   "id": "d822cf43",
   "metadata": {},
   "outputs": [],
   "source": [
    "import torch\n",
    "import pickle\n",
    "import string\n",
    "import emoji\n",
    "import re\n",
    "import contractions\n",
    "import pandas as pd\n",
    "import torch.nn as nn\n",
    "import dill\n",
    "import seaborn as sns\n",
    "import numpy as np\n",
    "import matplotlib.pyplot as plt"
   ]
  },
  {
   "cell_type": "code",
   "execution_count": 2,
   "id": "6b56a579",
   "metadata": {},
   "outputs": [],
   "source": [
    "stop_words = [\"i\", \"me\", \"my\", \"myself\", \"we\", \"our\", \"ours\", \"ourselves\", \"you\", \"your\", \"yours\", \"yourself\", \"yourselves\", \"he\", \"him\", \"his\",\n",
    "              \"himself\", \"she\", \"her\", \"hers\", \"herself\", \"it\", \"its\", \"itself\", \"they\", \"them\", \"their\", \"theirs\", \"themselves\", \"what\", \"which\", \n",
    "              \"who\", \"whom\", \"this\", \"that\", \"these\", \"those\", \"am\", \"is\", \"are\", \"was\", \"were\", \"be\", \"been\", \"being\", \"have\", \"has\", \"had\",\n",
    "              \"having\", \"do\", \"does\", \"did\", \"doing\", \"a\", \"an\", \"the\", \"and\", \"if\", \"or\", \"because\", \"as\", \"until\", \"while\", \"of\", \"at\",\n",
    "              \"by\", \"for\", \"with\", \"about\", \"between\", \"into\", \"through\", \"during\", \"before\", \"after\", \"above\", \"below\", \"to\", \"from\",\n",
    "              \"up\", \"down\", \"in\", \"on\", \"over\", \"under\", \"again\", \"further\", \"then\", \"once\", \"here\", \"there\", \"when\", \"where\", \"why\",\n",
    "              \"how\", \"all\", \"any\", \"both\", \"each\", \"other\", \"some\", \"such\", \"own\", \"same\", \n",
    "              \"than\", \"too\", \"now\"]\n",
    "punctuation_chars = string.punctuation\n",
    "regrex_pattern = f\"[{re.escape(punctuation_chars)}]\"\n",
    "url_pattern = r\"https?://\\S+|www\\.\\S+\"\n"
   ]
  },
  {
   "cell_type": "code",
   "execution_count": 3,
   "id": "f4a770fa",
   "metadata": {},
   "outputs": [
    {
     "data": {
      "text/plain": [
       "'not good live '"
      ]
     },
     "execution_count": 3,
     "metadata": {},
     "output_type": "execute_result"
    }
   ],
   "source": [
    "def convert_emojis_to_words(text):\n",
    "    return emoji.demojize(text,delimiters=(\" \", \" \"))\n",
    "\n",
    "def remove_html_tag(text):\n",
    "    return re.sub(r'<.*?>', '', text)\n",
    "    \n",
    "def clean_text(text):\n",
    "    text = convert_emojis_to_words(text)\n",
    "    text = re.sub(url_pattern,\"\",text)  #remove URLS\n",
    "    text = remove_html_tag(text)\n",
    "    expanded = contractions.fix(text).lower()\n",
    "    cleaned_text = re.sub(r'\\d+',\"\", expanded) #remove numbers\n",
    "    \n",
    "    punctuation_remove = re.sub(regrex_pattern,\"\",cleaned_text)\n",
    "    # print(punctuation_remove)\n",
    "    cleaned_token = [token for token in punctuation_remove.split(\" \") if token not in stop_words]\n",
    "    return \" \".join(cleaned_token)\n",
    "    # return punctuation_remove\n",
    "\n",
    "def padding_text(text, max_length=128):\n",
    "    if ((max_length - len(text)) < 0):\n",
    "        return text[:max_length-len(text)]\n",
    "    padded_sequence = text + [0] * (max_length - len(text))\n",
    "    return padded_sequence\n",
    "\n",
    "clean_text( \"This isn't good123 me live \")"
   ]
  },
  {
   "cell_type": "code",
   "execution_count": 4,
   "id": "5092b165",
   "metadata": {},
   "outputs": [],
   "source": [
    "class Tokenization():\n",
    "    def __init__(self,data):\n",
    "        self.data = data\n",
    "        # print(data)\n",
    "        all_words = \" \".join(self.data).lower().split()\n",
    "\n",
    "        self.vocab = set(all_words)\n",
    "        pad_unknown = {\"<PAD>\":0,\"<UNK>\":1}\n",
    "        self.word2idx = {word: i+2 for i, word in enumerate(self.vocab)}  #  0 for padding and 1 for Unknown\n",
    "        self.word2idx.update(pad_unknown)\n",
    "\n",
    "    def encode(self,text):\n",
    "        encoded = []\n",
    "        for word in text.lower().split():\n",
    "            if word in self.vocab:\n",
    "                encoded.append(self.word2idx[word])\n",
    "            else:\n",
    "                encoded.append(1)\n",
    "            \n",
    "        return encoded\n",
    "\n",
    "    def decode(self,encode_text):\n",
    "        print(encode_text)\n",
    "        decode_list = []\n",
    "        for token in encode_text:\n",
    "            for key,value in self.word2idx.items():\n",
    "                if token==value:\n",
    "                    decode_list.append(key)\n",
    "        return \" \".join(decode_list)\n",
    "                    \n",
    "\n"
   ]
  },
  {
   "cell_type": "code",
   "execution_count": 5,
   "id": "f9a35b12",
   "metadata": {},
   "outputs": [],
   "source": [
    "class CustomLSTMCell(nn.Module):\n",
    "    def __init__(self,input_size, hidden_size,hidden_layer=False):\n",
    "        super(CustomLSTMCell,self).__init__()\n",
    "        self.input_size = input_size\n",
    "        self.hidden_size = hidden_size\n",
    "        self.hidden_layer = hidden_layer\n",
    "\n",
    "        #gate's Fully connected network\n",
    "        if hidden_layer:\n",
    "            self.combined_linear = nn.Linear(self.input_size+self.hidden_size,128)\n",
    "            self.combined_linear2 = nn.Linear(128,4*self.hidden_size)\n",
    "        else:\n",
    "            self.combined_linear = nn.Linear(self.input_size+self.hidden_size,4*self.hidden_size)\n",
    "            \n",
    "        self.layer_norm = nn.LayerNorm(hidden_size)\n",
    "        \n",
    "\n",
    "    def forward(self, x, hidden_state, cell_state):\n",
    "        input_hidden = torch.concat([x,hidden_state],dim=1)\n",
    "        \n",
    "        if self.hidden_layer:\n",
    "            x = self.combined_linear(input_hidden)\n",
    "            combined_linear = self.combined_linear2(torch.relu(x))\n",
    "        else:\n",
    "            combined_linear = self.combined_linear(input_hidden)\n",
    "\n",
    "        f_t,i_t,ic_t,o_t = torch.chunk(combined_linear,4,dim=1)\n",
    "        # forget gate \n",
    "        f_t = torch.sigmoid(f_t)\n",
    "        #input gate\n",
    "        i_t = torch.sigmoid(i_t)\n",
    "        ic_t = torch.tanh(ic_t)\n",
    "\n",
    "        #output_gate\n",
    "        o_t = torch.sigmoid(o_t)\n",
    "\n",
    "        c_t = cell_state * f_t  + i_t * ic_t  #cell state of current lstm\n",
    "\n",
    "        h_t = o_t * torch.tanh(c_t)   #hidden state of current lstm [batch, hidden_size]\n",
    "\n",
    "        return h_t, c_t\n",
    "\n",
    "\n",
    "\n",
    "class CustomLSTM(nn.Module):\n",
    "    def __init__(self,input_size, hidden_size,hidden_layer=False):\n",
    "        super(CustomLSTM,self).__init__()\n",
    "        self.input_size = input_size\n",
    "        self.hidden_size = hidden_size\n",
    "        self.hidden_layer = hidden_layer\n",
    "\n",
    "        self.LSTM_cell = CustomLSTMCell(self.input_size,self.hidden_size,self.hidden_layer)\n",
    "\n",
    "    def forward(self,x):\n",
    "        batch,padded_size,embedding_dim = x.shape\n",
    "        h_t = torch.zeros(batch,self.hidden_size).to(x.device)  #initializing hidden state\n",
    "        c_t = torch.zeros(batch,self.hidden_size).to(x.device)   #initializing cell state\n",
    "\n",
    "        outputs =  torch.zeros(batch,padded_size,self.hidden_size,device=x.device)\n",
    "        \n",
    "        #loop through each word in sequence to their find hidden_state\n",
    "        for t in range(padded_size):\n",
    "            x_t = x[:, t, :]\n",
    "            h_t, c_t = self.LSTM_cell(x_t, h_t, c_t)\n",
    "            outputs[:, t, :] = h_t  #[batch,seq_len,hidden_size]\n",
    "        return outputs"
   ]
  },
  {
   "cell_type": "code",
   "execution_count": 6,
   "id": "96c6fc27",
   "metadata": {},
   "outputs": [],
   "source": [
    "class Attention(nn.Module):\n",
    "    def __init__(self,input_size):\n",
    "        super(Attention,self).__init__()\n",
    "        self.hidden_size = input_size\n",
    "        self.attention = nn.Linear(self.hidden_size,1)\n",
    "    \n",
    "    def forward(self, x, mask=None):\n",
    "        attention_score = self.attention(x).squeeze(-1)  #[batch,seq_len,1]\n",
    "        \n",
    "        if mask is not None:\n",
    "            attention_score = attention_score.masked_fill(mask == 0, -1e9)\n",
    "\n",
    "        attention_weight = torch.softmax(attention_score, dim=1)  #softmax on sequence to calculate probability [batch,seq_len]\n",
    "        \n",
    "        attn_weights_expanded = attention_weight.unsqueeze(-1)  #[batch,seq_len] --> [batch,seq_len, 1]  [[[1],[2],[3]]]=[1,3,1]\n",
    "        weighted_output = x * attn_weights_expanded     #hidden state multiply with atten_weight => [batch,seq_len,hidden_state] * \n",
    "                                                        #[batch,seq_len,hidden_state] * [batch,seq_len,1] = \n",
    "                                                        # [batch,seq_len,hidden_state] this determine the importance of each word in sequence\n",
    "        context_vector = weighted_output.sum(dim=1)     #find the summary of sequence [batch,hidden_state]\n",
    "\n",
    "        return context_vector, attention_weight"
   ]
  },
  {
   "cell_type": "code",
   "execution_count": 7,
   "id": "4c0b6fce",
   "metadata": {},
   "outputs": [],
   "source": [
    "class SentimentModel(nn.Module):\n",
    "    def __init__(self, vocab_size, embedding_dim, hidden_size, output_dim, padding_idx=0,hidden_layer=False):\n",
    "        super(SentimentModel, self).__init__()\n",
    "        \n",
    "        self.embedding = nn.Embedding(vocab_size, embedding_dim, padding_idx=padding_idx)\n",
    "        self.lstm1 = CustomLSTM(embedding_dim, hidden_size,hidden_layer)\n",
    "        self.ln1 = nn.LayerNorm(hidden_size)\n",
    "\n",
    "        self.lstm2 = CustomLSTM(hidden_size, hidden_size,hidden_layer)\n",
    "        self.ln2 = nn.LayerNorm(hidden_size)  \n",
    "\n",
    "        self.attention = Attention(hidden_size)\n",
    "        \n",
    "        self.fc = nn.Linear(hidden_size, output_dim)\n",
    "        self.dropout_fc = nn.Dropout(0.3)\n",
    "        \n",
    "    def forward(self,x,mask=None):\n",
    "        x = self.embedding(x)\n",
    "        x = self.lstm1(x)\n",
    "   \n",
    "        x = self.ln1(x)\n",
    "        \n",
    "        x = self.lstm2(x)\n",
    "        x = self.ln2(x)        \n",
    "        x, attn_weight = self.attention(x,mask)\n",
    "        \n",
    "        x = self.fc(x)\n",
    "        output = self.dropout_fc(x)\n",
    "        \n",
    "        return output,attn_weight\n",
    "        "
   ]
  },
  {
   "cell_type": "code",
   "execution_count": 8,
   "id": "dd8b482f",
   "metadata": {},
   "outputs": [],
   "source": [
    "with open(r\"C:\\Users\\Dell\\Downloads\\tokenizer.pt\", \"rb\") as f:\n",
    "    token1 = dill.load(f)           #loading tokenizer"
   ]
  },
  {
   "cell_type": "code",
   "execution_count": 9,
   "id": "7afecadb",
   "metadata": {},
   "outputs": [
    {
     "data": {
      "text/plain": [
       "[21063, 7024]"
      ]
     },
     "execution_count": 9,
     "metadata": {},
     "output_type": "execute_result"
    }
   ],
   "source": [
    "token1.encode(\"nice saree\")"
   ]
  },
  {
   "cell_type": "code",
   "execution_count": 10,
   "id": "a9ce021f",
   "metadata": {},
   "outputs": [],
   "source": [
    "# train_model1 = torch.jit.load(r\"C:\\Users\\Dell\\Downloads\\sentiment1.pt\", map_location=\"cpu\")"
   ]
  },
  {
   "cell_type": "code",
   "execution_count": 11,
   "id": "240868dc",
   "metadata": {},
   "outputs": [],
   "source": [
    "train_model = torch.jit.load(r\"C:\\Users\\Dell\\Downloads\\sentiment2.pt\", map_location=\"cpu\")"
   ]
  },
  {
   "cell_type": "code",
   "execution_count": null,
   "id": "bc537b82",
   "metadata": {},
   "outputs": [],
   "source": [
    "def predict(text,model):\n",
    "    text = clean_text(text)\n",
    "    encode = token1.encode(text)\n",
    "    padding = padding_text(encode)\n",
    "    text_tensor = torch.tensor([padding], dtype=torch.long)\n",
    "    model.eval()\n",
    "    with torch.no_grad():\n",
    "        outputs,_= model(text_tensor)  # raw logits\n",
    "        probs = torch.softmax(outputs, dim=1)  # convert to probabilities\n",
    "        preds = torch.argmax(probs, dim=1)     # get predicted class index\n",
    "        \n",
    "    label_map = {0: \"Negative\", 1: \"Neutral\", 2: \"Positive\"}\n",
    "    print(\"Prediction:\", label_map.get(preds.item(), \"Unknown\"))\n",
    "\n",
    "    return preds, probs\n",
    "    "
   ]
  },
  {
   "cell_type": "code",
   "execution_count": 13,
   "id": "8019cda4",
   "metadata": {},
   "outputs": [],
   "source": [
    "# train_model1"
   ]
  },
  {
   "cell_type": "code",
   "execution_count": 14,
   "id": "e3b9c12b",
   "metadata": {},
   "outputs": [
    {
     "data": {
      "text/plain": [
       "RecursiveScriptModule(\n",
       "  original_name=SentimentModel\n",
       "  (embedding): RecursiveScriptModule(original_name=Embedding)\n",
       "  (lstm1): RecursiveScriptModule(\n",
       "    original_name=CustomLSTM\n",
       "    (LSTM_cell): RecursiveScriptModule(\n",
       "      original_name=CustomLSTMCell\n",
       "      (combined_linear): RecursiveScriptModule(original_name=Linear)\n",
       "      (layer_norm): RecursiveScriptModule(original_name=LayerNorm)\n",
       "    )\n",
       "  )\n",
       "  (ln1): RecursiveScriptModule(original_name=LayerNorm)\n",
       "  (lstm2): RecursiveScriptModule(\n",
       "    original_name=CustomLSTM\n",
       "    (LSTM_cell): RecursiveScriptModule(\n",
       "      original_name=CustomLSTMCell\n",
       "      (combined_linear): RecursiveScriptModule(original_name=Linear)\n",
       "      (layer_norm): RecursiveScriptModule(original_name=LayerNorm)\n",
       "    )\n",
       "  )\n",
       "  (ln2): RecursiveScriptModule(original_name=LayerNorm)\n",
       "  (attention): RecursiveScriptModule(\n",
       "    original_name=Attention\n",
       "    (attention): RecursiveScriptModule(original_name=Linear)\n",
       "  )\n",
       "  (fc): RecursiveScriptModule(original_name=Linear)\n",
       "  (dropout_fc): RecursiveScriptModule(original_name=Dropout)\n",
       ")"
      ]
     },
     "execution_count": 14,
     "metadata": {},
     "output_type": "execute_result"
    }
   ],
   "source": [
    "train_model"
   ]
  },
  {
   "cell_type": "code",
   "execution_count": 17,
   "id": "1f9d8c6b",
   "metadata": {},
   "outputs": [
    {
     "name": "stdout",
     "output_type": "stream",
     "text": [
      "Prediction: Positive\n"
     ]
    },
    {
     "data": {
      "text/plain": [
       "(tensor([2]), tensor([[3.4840e-04, 2.3160e-03, 9.9734e-01]]))"
      ]
     },
     "execution_count": 17,
     "metadata": {},
     "output_type": "execute_result"
    }
   ],
   "source": [
    "predict(\"This is awesome book\", train_model)"
   ]
  },
  {
   "cell_type": "code",
   "execution_count": 28,
   "id": "25d930ec",
   "metadata": {},
   "outputs": [],
   "source": [
    "def batch_predict(texts,mod):\n",
    "    text_df = pd.Series(texts)\n",
    "    clean = text_df.apply(clean_text)\n",
    "    encode = clean.apply(token1.encode)\n",
    "    padding = encode.apply(padding_text)\n",
    "    mod.eval()\n",
    "    text_tensor = torch.tensor(padding, dtype=torch.long)\n",
    "\n",
    "    with torch.no_grad():\n",
    "        outputs,_ = mod(text_tensor)  # raw logits\n",
    "        probs = torch.softmax(outputs, dim=1)  # convert to probabilities\n",
    "        preds = torch.argmax(probs, dim=1)     # get predicted class index\n",
    "        \n",
    "\n",
    "    return preds.cpu()\n",
    "    \n",
    "\n",
    "def label(texts,predict):\n",
    "    for x,i in zip(texts,predict):\n",
    "        if (i==0):\n",
    "            print(f\"{x} \\n \\033[1mNegative\\033[0m\")\n",
    "        elif (i==1):\n",
    "            print(f\"{x}\\n \\033[1mNeutral\\033[0m\")\n",
    "        else:\n",
    "            print(f\"{x}\\n \\033[1mPOSITIVE\\033[0m\")"
   ]
  },
  {
   "cell_type": "code",
   "execution_count": null,
   "id": "f3a966ad",
   "metadata": {},
   "outputs": [],
   "source": []
  },
  {
   "cell_type": "code",
   "execution_count": 32,
   "id": "c893fc12",
   "metadata": {},
   "outputs": [],
   "source": [
    "demo_text = [\n",
    "    \"I see what you mean.\",\n",
    "    \"This is the best product\",\n",
    "    \"ok ok\",\n",
    "    \"Nice product\",\n",
    "    \"The battery is not good\"\n",
    "]"
   ]
  },
  {
   "cell_type": "code",
   "execution_count": 31,
   "id": "88303e6d",
   "metadata": {},
   "outputs": [
    {
     "name": "stdout",
     "output_type": "stream",
     "text": [
      "I see what you mean.\n",
      " \u001b[1mNeutral\u001b[0m\n",
      "This is the best product\n",
      " \u001b[1mPOSITIVE\u001b[0m\n",
      "ok ok\n",
      " \u001b[1mNeutral\u001b[0m\n",
      "Nice product\n",
      " \u001b[1mPOSITIVE\u001b[0m\n",
      "The battery is not good \n",
      " \u001b[1mNegative\u001b[0m\n"
     ]
    }
   ],
   "source": [
    "demo_predict = batch_predict(demo_text, train_model)\n",
    "label(demo_text,demo_predict)"
   ]
  },
  {
   "cell_type": "code",
   "execution_count": 61,
   "id": "907c86fd",
   "metadata": {},
   "outputs": [],
   "source": [
    "def visualize_attn(model,text):\n",
    "    real_text = text\n",
    "    plt.figure(figsize=(6,3))\n",
    "    text = clean_text(real_text)\n",
    "    encode = token1.encode(text)\n",
    "    padding = padding_text(encode)\n",
    "    text_tensor = torch.tensor([padding], dtype=torch.long)\n",
    "    model.eval()\n",
    "    with torch.no_grad():\n",
    "        outputs,attn_weight= model(text_tensor)\n",
    "        probs = torch.softmax(outputs, dim=1)  # convert to probabilities\n",
    "        preds = torch.argmax(probs, dim=1) \n",
    "        \n",
    "    label_map = {0: \"Negative\", 1: \"Neutral\", 2: \"Positive\"}\n",
    "    X = np.array(attn_weight[0][:len(encode)])\n",
    "    y = text.split(\" \")\n",
    "    sns.barplot(x = y,y=X)\n",
    "    print(real_text)\n",
    "    print(\"Prediction:\", label_map.get(preds.item(), \"Unknown\"))\n",
    "    print(\"Sentiment Score: \", probs)\n"
   ]
  },
  {
   "cell_type": "code",
   "execution_count": 62,
   "id": "f0588613",
   "metadata": {},
   "outputs": [
    {
     "name": "stdout",
     "output_type": "stream",
     "text": [
      "This is the amazing phone\n",
      "Prediction: Positive\n",
      "Sentiment Score:  tensor([[7.6722e-06, 1.3129e-05, 9.9998e-01]])\n"
     ]
    },
    {
     "data": {
      "image/png": "[encoded data removed]",
      "text/plain": [
       "<Figure size 600x300 with 1 Axes>"
      ]
     },
     "metadata": {},
     "output_type": "display_data"
    }
   ],
   "source": [
    "visualize_attn(train_model,\"This is the amazing phone\")"
   ]
  },
  {
   "cell_type": "code",
   "execution_count": 63,
   "id": "a11d4158",
   "metadata": {},
   "outputs": [
    {
     "name": "stdout",
     "output_type": "stream",
     "text": [
      "what a nice phone\n",
      "Prediction: Positive\n",
      "Sentiment Score:  tensor([[0.0479, 0.0753, 0.8768]])\n"
     ]
    },
    {
     "data": {
      "image/png": "[encoded data removed]",
      "text/plain": [
       "<Figure size 600x300 with 1 Axes>"
      ]
     },
     "metadata": {},
     "output_type": "display_data"
    }
   ],
   "source": [
    "visualize_attn(train_model,\"what a nice phone\")"
   ]
  },
  {
   "cell_type": "code",
   "execution_count": 64,
   "id": "f84991c1",
   "metadata": {},
   "outputs": [
    {
     "name": "stdout",
     "output_type": "stream",
     "text": [
      "Not sure how I feel about this yet\n",
      "Prediction: Neutral\n",
      "Sentiment Score:  tensor([[0.0750, 0.9049, 0.0201]])\n"
     ]
    },
    {
     "data": {
      "image/png": "[encoded data removed]",
      "text/plain": [
       "<Figure size 600x300 with 1 Axes>"
      ]
     },
     "metadata": {},
     "output_type": "display_data"
    }
   ],
   "source": [
    "visualize_attn(train_model,\"Not sure how I feel about this yet\")"
   ]
  },
  {
   "cell_type": "markdown",
   "id": "457093e7",
   "metadata": {},
   "source": []
  },
  {
   "cell_type": "code",
   "execution_count": 65,
   "id": "62ba439e",
   "metadata": {},
   "outputs": [
    {
     "name": "stdout",
     "output_type": "stream",
     "text": [
      "The battery life on this phone is terrible\n",
      "Prediction: Negative\n",
      "Sentiment Score:  tensor([[9.9992e-01, 6.0907e-06, 7.5571e-05]])\n"
     ]
    },
    {
     "data": {
      "image/png": "[encoded data removed]",
      "text/plain": [
       "<Figure size 600x300 with 1 Axes>"
      ]
     },
     "metadata": {},
     "output_type": "display_data"
    }
   ],
   "source": [
    "visualize_attn(train_model,\"The battery life on this phone is terrible\")"
   ]
  },
  {
   "cell_type": "code",
   "execution_count": 54,
   "id": "ee93cc1f",
   "metadata": {},
   "outputs": [],
   "source": [
    "import warnings\n",
    "warnings.filterwarnings(\"ignore\", category=FutureWarning, module=\"seaborn\")"
   ]
  },
  {
   "cell_type": "code",
   "execution_count": null,
   "id": "de036f44",
   "metadata": {},
   "outputs": [],
   "source": []
  }
 ],
 "metadata": {
  "kernelspec": {
   "display_name": "Python 3",
   "language": "python",
   "name": "python3"
  },
  "language_info": {
   "codemirror_mode": {
    "name": "ipython",
    "version": 3
   },
   "file_extension": ".py",
   "mimetype": "text/x-python",
   "name": "python",
   "nbconvert_exporter": "python",
   "pygments_lexer": "ipython3",
   "version": "3.11.1"
  }
 },
 "nbformat": 4,
 "nbformat_minor": 5
}
